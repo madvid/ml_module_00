{
 "cells": [
  {
   "cell_type": "code",
   "execution_count": 1,
   "id": "d579c0ec",
   "metadata": {},
   "outputs": [],
   "source": [
    "import numpy as np"
   ]
  },
  {
   "cell_type": "markdown",
   "id": "1b86b2d6",
   "metadata": {},
   "source": [
    "# Module 00: Stepping into Machine Learning"
   ]
  },
  {
   "cell_type": "markdown",
   "id": "c122a136",
   "metadata": {},
   "source": [
    "## Exercise 00: Matrix"
   ]
  },
  {
   "cell_type": "code",
   "execution_count": 4,
   "id": "82f96d62",
   "metadata": {},
   "outputs": [
    {
     "name": "stdout",
     "output_type": "stream",
     "text": [
      "shape = (3, 3)\n",
      " Matrix([[1, 2, 3] [4, 5, 6] [7, 8, 9]])\n",
      "shape = (3, 1)\n",
      " Matrix([[0] [1] [2]])\n",
      "shape = (2, 12)\n",
      " Matrix([[1, 2, 3, 11, 12, 13, 21, 22, 23, 31, 32, 33] [4, 5, 6, 14, 15, 16, 24, 25, 26, 34, 35, 36]])\n",
      "shape = (1, 1)\n",
      " Matrix([[0]])\n",
      "shape = (2, 3)\n",
      " Matrix([[0, 0, 0] [0, 0, 0]])\n",
      "shape = (1, 10)\n",
      " Matrix([[0, 0, 0, 0, 0, 0, 0, 0, 0, 0]])\n",
      "shape = (10, 1)\n",
      " Matrix([[0] [0] [0] [0] [0] [0] [0] [0] [0] [0]])\n",
      "shape m1 +m2 = (3, 3)\n",
      " Matrix([[10, 10, 10] [10, 10, 10] [10, 10, 10]])\n",
      "shape m1 +m2 = (3, 1)\n",
      " Matrix([[8] [9] [10]])\n",
      "shape m1 +m2 = (1, 3)\n",
      " Matrix([[4, 6, 8]])\n",
      "shape m1 +m2 = (1, 1)\n",
      " Matrix([[4]])\n",
      "shape m1 +m2 = (2, 5)\n",
      " Matrix([[2.01, 0.8, -6.25, 4.5, -11.1] [4, -1.2, -7.5, 3, -12]])\n"
     ]
    }
   ],
   "source": [
    "from ex00.matrix import Matrix\n",
    "\n",
    "# Instance\n",
    "m1 = Matrix([[1, 2, 3],[4, 5, 6],[7, 8, 9]])\n",
    "print(f\"shape = {m1.shape}\\n\", m1)\n",
    "m2 = Matrix([[0],[1],[2]])\n",
    "print(f\"shape = {m2.shape}\\n\", m2)\n",
    "m3 = Matrix([[1, 2, 3, 11, 12, 13, 21, 22, 23, 31, 32, 33],[4, 5, 6, 14, 15, 16, 24, 25, 26, 34, 35, 36]])\n",
    "print(f\"shape = {m3.shape}\\n\", m3)\n",
    "\n",
    "m4 = Matrix((1, 1))\n",
    "print(f\"shape = {m4.shape}\\n\", m4)\n",
    "m5 = Matrix((2, 3))\n",
    "print(f\"shape = {m5.shape}\\n\", m5)\n",
    "m6 = Matrix((1, 10))\n",
    "print(f\"shape = {m6.shape}\\n\", m6)\n",
    "m7 = Matrix((10, 1))\n",
    "print(f\"shape = {m7.shape}\\n\", m7)\n",
    "\n",
    "# Addition matrice avec matrice, float, str, tuple, list\n",
    "m1 = Matrix([[1, 2, 3],[4, 5, 6],[7, 8, 9]])\n",
    "m2 = Matrix([[9, 8, 7],[6, 5, 4],[3, 2, 1]])\n",
    "print(f\"shape m1 +m2 = {(m1 + m2).shape}\\n\", m1 + m2)\n",
    "\n",
    "m1 = Matrix([[1],[4],[7]])\n",
    "m2 = Matrix([[7],[5],[3]])\n",
    "print(f\"shape m1 +m2 = {(m1 + m2).shape}\\n\", m1 + m2)\n",
    "\n",
    "m1 = Matrix([[1, 2, 3]])\n",
    "m2 = Matrix([[3, 4, 5]])\n",
    "print(f\"shape m1 +m2 = {(m1 + m2).shape}\\n\", m1 + m2)\n",
    "\n",
    "m1 = Matrix([[1]])\n",
    "m2 = Matrix([[3]])\n",
    "print(f\"shape m1 +m2 = {(m1 + m2).shape}\\n\", m1 + m2)\n",
    "\n",
    "m1 = Matrix([[1, 0, -5, 2, -8], [1, 0, -5, 2, -8]])\n",
    "m2 = Matrix([[1.01, 0.8, -1.25, 2.5, -3.1], [3, -1.2, -2.5, 1, -4]])\n",
    "print(f\"shape m1 +m2 = {(m1 + m2).shape}\\n\", m1 + m2)\n",
    "\n",
    "\n"
   ]
  },
  {
   "cell_type": "markdown",
   "id": "9bf38c1e",
   "metadata": {},
   "source": [
    "## Exercise 01: TinyStatistician\n",
    "```python\n",
    "data = [2, 37, 69, 318, 32, 3, 65, 74, 38, 26, 1 ,79]\n",
    "\n",
    "print(f\"{len(data) = }\")\n",
    "# Output: len(data) = 12\n",
    "\n",
    "print(f\"{(len(data) / 2) % 2 == 0}\")\n",
    "# Output: True\n",
    "\n",
    "quartile = tstat.quartile(data)\n",
    "\n",
    "print(f\"{quartile[0] = }\")\n",
    "# Output: quartile[0] = 3\n",
    "\n",
    "print(f\"{quartile[1] = }\")\n",
    "# Output: quartile[1] = 69\n",
    "\n",
    "\n",
    "print(f\"{tstat.percentile(data, 2) = }\")\n",
    "# Output: tstat.percentile(data, 2) = 1\n",
    "\n",
    "print(f\"{tstat.percentile(data, 28) = }\")\n",
    "# Output: tstat.percentile(data, 28) = 26\n",
    "\n",
    "print(f\"{tstat.percentile(data, 83) = }\")\n",
    "# Output: tstat.percentile(data, 83) = 74\n",
    "```"
   ]
  },
  {
   "cell_type": "code",
   "execution_count": 15,
   "id": "17a93b43",
   "metadata": {},
   "outputs": [
    {
     "name": "stdout",
     "output_type": "stream",
     "text": [
      "mean =  82.4\n",
      "median =  42\n",
      "quartile =  [10, 59]\n",
      "percentile(10) =  1\n",
      "percentile(28) =  10\n",
      "percentile(83) =  300\n",
      "var =  12279.439999999999\n",
      "std =  110.81263465868862\n"
     ]
    }
   ],
   "source": [
    "import math\n",
    "from ex01.TinyStatistician import TinyStatistician\n",
    "\n",
    "ts = TinyStatistician()\n",
    "a = [1, 42, 300, 10, 59]\n",
    "#a = [2, 37, 69, 318, 32, 3, 65, 74, 38, 26, 1 ,79]\n",
    "\n",
    "print(\"mean = \", ts.mean(a))\n",
    "print(\"median = \", ts.median(a))\n",
    "print(\"quartile = \", ts.quartile(a))\n",
    "print(\"percentile(10) = \", ts.percentile(a, 10))\n",
    "print(\"percentile(28) = \", ts.percentile(a, 28))\n",
    "print(\"percentile(83) = \", ts.percentile(a, 83))\n",
    "print(\"var = \", ts.var(a))\n",
    "print(\"std = \", ts.std(a))"
   ]
  },
  {
   "cell_type": "code",
   "execution_count": 16,
   "id": "566d4ba6",
   "metadata": {},
   "outputs": [
    {
     "name": "stdout",
     "output_type": "stream",
     "text": [
      "499.2\n",
      "210.5\n",
      "[18, 650]\n",
      "3\n",
      "18\n",
      "754\n",
      "589194.56\n",
      "767.5900989460456\n"
     ]
    }
   ],
   "source": [
    "import ex01.TinyStatistician as ts\n",
    "\n",
    "tstat = ts.TinyStatistician()\n",
    "data = [42, 7, 69, 18, 352, 3, 650, 754, 438, 2659]\n",
    "\n",
    "print(tstat.mean(data))\n",
    "print(tstat.median(data))\n",
    "print(tstat.quartile(data))\n",
    "print(tstat.percentile(data, 10))\n",
    "print(tstat.percentile(data, 28))\n",
    "print(tstat.percentile(data, 83))\n",
    "print(tstat.var(data))\n",
    "print(tstat.std(data))"
   ]
  },
  {
   "cell_type": "markdown",
   "id": "0232e06e",
   "metadata": {},
   "source": [
    "## Exercise 02: Simple prediction"
   ]
  },
  {
   "cell_type": "code",
   "execution_count": 3,
   "id": "4247267b",
   "metadata": {},
   "outputs": [
    {
     "name": "stdout",
     "output_type": "stream",
     "text": [
      "[[5.]\n",
      " [5.]\n",
      " [5.]\n",
      " [5.]\n",
      " [5.]] \n",
      "\n",
      "[[1.]\n",
      " [2.]\n",
      " [3.]\n",
      " [4.]\n",
      " [5.]] \n",
      "\n",
      "[[ 8.]\n",
      " [11.]\n",
      " [14.]\n",
      " [17.]\n",
      " [20.]] \n",
      "\n",
      "[[-2.]\n",
      " [-1.]\n",
      " [ 0.]\n",
      " [ 1.]\n",
      " [ 2.]] \n",
      "\n"
     ]
    }
   ],
   "source": [
    "from ex02.prediction import simple_predict\n",
    "\n",
    "x = np.arange(1,6).reshape(-1, 1)\n",
    "\n",
    "# Example 1:\n",
    "theta1 = np.array([[5],[0]])\n",
    "print(simple_predict(x, theta1), \"\\n\")\n",
    "# Ouput:\n",
    "#array([[5.],[5.],[5.],[5.],[5.]])\n",
    "# Do you understand why y_hat contains only 5’s here?\n",
    "\n",
    "# Example 2:\n",
    "theta2 = np.array([[0],[1]])\n",
    "print(simple_predict(x, theta2), \"\\n\")\n",
    "# Output:\n",
    "#array([[1.],[2.],[3.],[4.],[5.]])\n",
    "# Do you understand why y_hat == x here?\n",
    "# Example 3:\n",
    "\n",
    "theta3 = np.array([[5],[3]])\n",
    "print(simple_predict(x, theta3), \"\\n\")\n",
    "# Output:\n",
    "#array([[ 8.],[11.],[14.],[17.],[20.]])\n",
    "\n",
    "# Example 4:\n",
    "theta4 = np.array([[-3],[1]])\n",
    "print(simple_predict(x, theta4), \"\\n\")\n",
    "# Output:\n",
    "#array([[-2.],[-1.],[ 0.],[ 1.],[ 2.]])"
   ]
  },
  {
   "cell_type": "markdown",
   "id": "f8febe0f",
   "metadata": {},
   "source": [
    "## Exercise 03: Add intercept"
   ]
  },
  {
   "cell_type": "code",
   "execution_count": 3,
   "id": "fd38ce26",
   "metadata": {},
   "outputs": [
    {
     "name": "stdout",
     "output_type": "stream",
     "text": [
      "[[1. 1.]\n",
      " [1. 2.]\n",
      " [1. 3.]\n",
      " [1. 4.]\n",
      " [1. 5.]] \n",
      "\n",
      "[[1. 1. 2. 3.]\n",
      " [1. 4. 5. 6.]\n",
      " [1. 7. 8. 9.]]\n"
     ]
    }
   ],
   "source": [
    "from ex03.tools import add_intercept\n",
    "\n",
    "# Example 1:\n",
    "x = np.arange(1,6).reshape((5,1))\n",
    "print(add_intercept(x), \"\\n\")\n",
    "# Output:\n",
    "#array([[1., 1.],\n",
    "#       [1., 2.],\n",
    "#       [1., 3.],\n",
    "#       [1., 4.],\n",
    "#       [1., 5.]])\n",
    "\n",
    "\n",
    "# Example 2:\n",
    "y = np.arange(1,10).reshape((3,3))\n",
    "print(add_intercept(y))\n",
    "# Output:\n",
    "#array([[1., 1., 2., 3.],\n",
    "#       [1., 4., 5., 6.],\n",
    "#       [1., 7., 8., 9.]])"
   ]
  },
  {
   "cell_type": "markdown",
   "id": "f2d8ae1a",
   "metadata": {},
   "source": [
    "## Exercise 04: Prediction"
   ]
  },
  {
   "cell_type": "code",
   "execution_count": 2,
   "id": "dcc055de",
   "metadata": {},
   "outputs": [],
   "source": [
    "from ex04.prediction import predict_\n",
    "import numpy as np\n",
    "\n",
    "x = np.arange(1,6).reshape(-1, 1)\n",
    "\n",
    "# Example 1:\n",
    "theta1 = np.array([[5],[0]])\n",
    "print(predict_(x, theta1), \"\\n\")\n",
    "# Ouput:\n",
    "# array([[5.],[5.],[5.],[5.],[5.]])\n",
    "# Do you remember why y_hat contains only 5’s here?\n",
    "\n",
    "# Example 2:\n",
    "theta2 = np.array([[0],[1]])\n",
    "print(predict_(x, theta2), \"\\n\")\n",
    "# Output:\n",
    "# array([[1.],[2.],[3.],[4.],[5.]])\n",
    "# Do you remember why y_hat == x here?\n",
    "\n",
    "# Example 3:\n",
    "theta3 = np.array([[5],[3]])\n",
    "print(predict_(x, theta3), \"\\n\")\n",
    "# Output:\n",
    "# array([[ 8.],[11.],[14.],[17.],[20.]])\n",
    "\n",
    "# Example 4:\n",
    "theta4 = np.array([[-3],[1]])\n",
    "print(predict_(x, theta4), \"\\n\")\n",
    "# Output:\n",
    "# array([[-2.],[-1.],[ 0.],[ 1.],[ 2.]])"
   ]
  },
  {
   "cell_type": "markdown",
   "id": "ebd7e416",
   "metadata": {},
   "source": [
    "## Exercise 05: Let's Make Nice Plots"
   ]
  },
  {
   "cell_type": "code",
   "execution_count": null,
   "id": "cbda4fc0",
   "metadata": {},
   "outputs": [],
   "source": [
    "#from ex05.plot import ..."
   ]
  },
  {
   "cell_type": "markdown",
   "id": "33725784",
   "metadata": {},
   "source": [
    "## Exercise 06: loss function"
   ]
  },
  {
   "cell_type": "code",
   "execution_count": null,
   "id": "46f5f814",
   "metadata": {},
   "outputs": [],
   "source": [
    "#from ex06.loss import ..."
   ]
  },
  {
   "cell_type": "markdown",
   "id": "6b928e97",
   "metadata": {},
   "source": [
    "## Exercise 07: Vectorized loss function"
   ]
  },
  {
   "cell_type": "code",
   "execution_count": null,
   "id": "b0ee23cd",
   "metadata": {},
   "outputs": [],
   "source": [
    "#from ex07.vec_loss import ..."
   ]
  },
  {
   "cell_type": "markdown",
   "id": "a20ea748",
   "metadata": {},
   "source": [
    "## Exercise 08: Lets Make Plots Again"
   ]
  },
  {
   "cell_type": "code",
   "execution_count": null,
   "id": "d88e6949",
   "metadata": {},
   "outputs": [],
   "source": [
    "#from ex08.plot import ..."
   ]
  },
  {
   "cell_type": "markdown",
   "id": "6e419e5a",
   "metadata": {},
   "source": [
    "## Exercise 09: Other loss functions"
   ]
  },
  {
   "cell_type": "code",
   "execution_count": null,
   "id": "22beda3c",
   "metadata": {},
   "outputs": [],
   "source": [
    "#from ex09.other_losses import ..."
   ]
  }
 ],
 "metadata": {
  "interpreter": {
   "hash": "40d3a090f54c6569ab1632332b64b2c03c39dcf918b08424e98f38b5ae0af88f"
  },
  "kernelspec": {
   "display_name": "Python 3.7.4 64-bit ('base': conda)",
   "language": "python",
   "name": "python3"
  },
  "language_info": {
   "codemirror_mode": {
    "name": "ipython",
    "version": 3
   },
   "file_extension": ".py",
   "mimetype": "text/x-python",
   "name": "python",
   "nbconvert_exporter": "python",
   "pygments_lexer": "ipython3",
   "version": "3.7.4"
  }
 },
 "nbformat": 4,
 "nbformat_minor": 5
}
