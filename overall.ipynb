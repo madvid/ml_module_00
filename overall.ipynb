{
 "cells": [
  {
   "cell_type": "markdown",
   "id": "1b86b2d6",
   "metadata": {},
   "source": [
    "# Module 00: Stepping into Machine Learning"
   ]
  },
  {
   "cell_type": "markdown",
   "id": "c122a136",
   "metadata": {},
   "source": [
    "## Exercise 00: Matrix"
   ]
  },
  {
   "cell_type": "code",
   "execution_count": 1,
   "id": "82f96d62",
   "metadata": {},
   "outputs": [
    {
     "name": "stdout",
     "output_type": "stream",
     "text": [
      "res.data = [[2, 0, 0], [0, 0, 0], [0, 0, 0]] -- self.data[0][0] = 1 -- other.data[0][0] = 1\n",
      "res.data = [[2, 3, 0], [0, 0, 0], [0, 0, 0]] -- self.data[0][1] = 2 -- other.data[0][1] = 1\n",
      "res.data = [[2, 3, 4], [0, 0, 0], [0, 0, 0]] -- self.data[0][2] = 3 -- other.data[0][2] = 1\n",
      "res.data = [[2, 3, 4], [6, 0, 0], [0, 0, 0]] -- self.data[1][0] = 4 -- other.data[1][0] = 2\n",
      "res.data = [[2, 3, 4], [6, 8, 0], [0, 0, 0]] -- self.data[1][1] = 5 -- other.data[1][1] = 3\n",
      "res.data = [[2, 3, 4], [6, 8, 8], [0, 0, 0]] -- self.data[1][2] = 6 -- other.data[1][2] = 2\n",
      "res.data = [[2, 3, 4], [6, 8, 8], [12, 0, 0]] -- self.data[2][0] = 7 -- other.data[2][0] = 5\n",
      "res.data = [[2, 3, 4], [6, 8, 8], [12, 12, 0]] -- self.data[2][1] = 8 -- other.data[2][1] = 4\n",
      "res.data = [[2, 3, 4], [6, 8, 8], [12, 12, 14]] -- self.data[2][2] = 9 -- other.data[2][2] = 5\n"
     ]
    },
    {
     "data": {
      "text/plain": [
       "Matrix([[2, 3, 4] [6, 8, 8] [12, 12, 14]])"
      ]
     },
     "execution_count": 1,
     "metadata": {},
     "output_type": "execute_result"
    }
   ],
   "source": [
    "from ex00.matrix import Matrix\n",
    "\n",
    "m1 = Matrix([[1, 2, 3],[4, 5, 6],[7, 8, 9]])\n",
    "m2 = Matrix([[1, 1, 1],[2, 3, 2],[5, 4, 5]])\n",
    "m1 + m2"
   ]
  },
  {
   "cell_type": "markdown",
   "id": "9bf38c1e",
   "metadata": {},
   "source": [
    "## Exercise 01: TinyStatistician"
   ]
  },
  {
   "cell_type": "code",
   "execution_count": null,
   "id": "17a93b43",
   "metadata": {},
   "outputs": [],
   "source": [
    "#from ex01.TinyStatistician import ..."
   ]
  },
  {
   "cell_type": "markdown",
   "id": "0232e06e",
   "metadata": {},
   "source": [
    "## Exercise 02: Simple prediction"
   ]
  },
  {
   "cell_type": "code",
   "execution_count": null,
   "id": "4247267b",
   "metadata": {},
   "outputs": [],
   "source": [
    "#from ex02.prediction import ..."
   ]
  },
  {
   "cell_type": "markdown",
   "id": "f8febe0f",
   "metadata": {},
   "source": [
    "## Exercise 03: Add intercept"
   ]
  },
  {
   "cell_type": "code",
   "execution_count": null,
   "id": "fd38ce26",
   "metadata": {},
   "outputs": [],
   "source": [
    "#from ex03.tools import ..."
   ]
  },
  {
   "cell_type": "markdown",
   "id": "f2d8ae1a",
   "metadata": {},
   "source": [
    "## Exercise 04: Prediction"
   ]
  },
  {
   "cell_type": "code",
   "execution_count": null,
   "id": "dcc055de",
   "metadata": {},
   "outputs": [],
   "source": [
    "#from ex04.prediction import ..."
   ]
  },
  {
   "cell_type": "markdown",
   "id": "ebd7e416",
   "metadata": {},
   "source": [
    "## Exercise 05: Let's Make Nice Plots"
   ]
  },
  {
   "cell_type": "code",
   "execution_count": null,
   "id": "cbda4fc0",
   "metadata": {},
   "outputs": [],
   "source": [
    "#from ex05.plot import ..."
   ]
  },
  {
   "cell_type": "markdown",
   "id": "33725784",
   "metadata": {},
   "source": [
    "## Exercise 06: loss function"
   ]
  },
  {
   "cell_type": "code",
   "execution_count": null,
   "id": "46f5f814",
   "metadata": {},
   "outputs": [],
   "source": [
    "#from ex06.loss import ..."
   ]
  },
  {
   "cell_type": "markdown",
   "id": "6b928e97",
   "metadata": {},
   "source": [
    "## Exercise 07: Vectorized loss function"
   ]
  },
  {
   "cell_type": "code",
   "execution_count": null,
   "id": "b0ee23cd",
   "metadata": {},
   "outputs": [],
   "source": [
    "#from ex07.vec_loss import ..."
   ]
  },
  {
   "cell_type": "markdown",
   "id": "a20ea748",
   "metadata": {},
   "source": [
    "## Exercise 08: Lets Make Plots Again"
   ]
  },
  {
   "cell_type": "code",
   "execution_count": null,
   "id": "d88e6949",
   "metadata": {},
   "outputs": [],
   "source": [
    "#from ex08.plot import ..."
   ]
  },
  {
   "cell_type": "markdown",
   "id": "6e419e5a",
   "metadata": {},
   "source": [
    "## Exercise 09: Other loss functions"
   ]
  },
  {
   "cell_type": "code",
   "execution_count": null,
   "id": "22beda3c",
   "metadata": {},
   "outputs": [],
   "source": [
    "#from ex09.other_losses import ..."
   ]
  }
 ],
 "metadata": {
  "interpreter": {
   "hash": "40d3a090f54c6569ab1632332b64b2c03c39dcf918b08424e98f38b5ae0af88f"
  },
  "kernelspec": {
   "display_name": "Python 3.7.4 64-bit ('base': conda)",
   "language": "python",
   "name": "python3"
  },
  "language_info": {
   "codemirror_mode": {
    "name": "ipython",
    "version": 3
   },
   "file_extension": ".py",
   "mimetype": "text/x-python",
   "name": "python",
   "nbconvert_exporter": "python",
   "pygments_lexer": "ipython3",
   "version": "3.7.4"
  }
 },
 "nbformat": 4,
 "nbformat_minor": 5
}
