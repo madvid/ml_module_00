{
 "cells": [
  {
   "cell_type": "code",
   "execution_count": 1,
   "id": "d579c0ec",
   "metadata": {},
   "outputs": [],
   "source": [
    "import numpy as np"
   ]
  },
  {
   "cell_type": "markdown",
   "id": "1b86b2d6",
   "metadata": {},
   "source": [
    "# Module 00: Stepping into Machine Learning"
   ]
  },
  {
   "cell_type": "markdown",
   "id": "c122a136",
   "metadata": {},
   "source": [
    "## Exercise 00: Matrix\n",
    "### Partie sur les matrices"
   ]
  },
  {
   "cell_type": "code",
   "execution_count": 2,
   "id": "82f96d62",
   "metadata": {},
   "outputs": [
    {
     "name": "stdout",
     "output_type": "stream",
     "text": [
      "shape = (3, 3)\n",
      " Matrix([[1, 2, 3] [4, 5, 6] [7, 8, 9]])\n",
      "shape = (3, 1)\n",
      " Matrix([[0] [1] [2]])\n",
      "shape = (2, 12)\n",
      " Matrix([[1, 2, 3, 11, 12, 13, 21, 22, 23, 31, 32, 33] [4, 5, 6, 14, 15, 16, 24, 25, 26, 34, 35, 36]])\n",
      "shape = (1, 1)\n",
      " Matrix([[0]])\n",
      "shape = (2, 3)\n",
      " Matrix([[0, 0, 0] [0, 0, 0]])\n",
      "shape = (1, 10)\n",
      " Matrix([[0, 0, 0, 0, 0, 0, 0, 0, 0, 0]])\n",
      "shape = (10, 1)\n",
      " Matrix([[0] [0] [0] [0] [0] [0] [0] [0] [0] [0]])\n",
      "shape m1 +m2 = (3, 3)\n",
      " Matrix([[10, 10, 10] [10, 10, 10] [10, 10, 10]])\n",
      "shape m1 +m2 = (3, 1)\n",
      " Matrix([[8] [9] [10]])\n",
      "shape m1 +m2 = (1, 3)\n",
      " Matrix([[4, 6, 8]])\n",
      "shape m1 +m2 = (1, 1)\n",
      " Matrix([[4]])\n",
      "shape m1 +m2 = (2, 5)\n",
      " Matrix([[2.01, 0.8, -6.25, 4.5, -11.1] [4, -1.2, -7.5, 3, -12]])\n"
     ]
    }
   ],
   "source": [
    "from ex00.matrix import Matrix\n",
    "\n",
    "# Instance\n",
    "m1 = Matrix([[1, 2, 3],[4, 5, 6],[7, 8, 9]])\n",
    "print(f\"shape = {m1.shape}\\n\", m1)\n",
    "m2 = Matrix([[0],[1],[2]])\n",
    "print(f\"shape = {m2.shape}\\n\", m2)\n",
    "m3 = Matrix([[1, 2, 3, 11, 12, 13, 21, 22, 23, 31, 32, 33],[4, 5, 6, 14, 15, 16, 24, 25, 26, 34, 35, 36]])\n",
    "print(f\"shape = {m3.shape}\\n\", m3)\n",
    "\n",
    "m4 = Matrix((1, 1))\n",
    "print(f\"shape = {m4.shape}\\n\", m4)\n",
    "m5 = Matrix((2, 3))\n",
    "print(f\"shape = {m5.shape}\\n\", m5)\n",
    "m6 = Matrix((1, 10))\n",
    "print(f\"shape = {m6.shape}\\n\", m6)\n",
    "m7 = Matrix((10, 1))\n",
    "print(f\"shape = {m7.shape}\\n\", m7)\n",
    "\n",
    "# Addition matrice avec matrice, float, str, tuple, list\n",
    "m1 = Matrix([[1, 2, 3],[4, 5, 6],[7, 8, 9]])\n",
    "m2 = Matrix([[9, 8, 7],[6, 5, 4],[3, 2, 1]])\n",
    "print(f\"shape m1 +m2 = {(m1 + m2).shape}\\n\", m1 + m2)\n",
    "\n",
    "m1 = Matrix([[1],[4],[7]])\n",
    "m2 = Matrix([[7],[5],[3]])\n",
    "print(f\"shape m1 +m2 = {(m1 + m2).shape}\\n\", m1 + m2)\n",
    "\n",
    "m1 = Matrix([[1, 2, 3]])\n",
    "m2 = Matrix([[3, 4, 5]])\n",
    "print(f\"shape m1 +m2 = {(m1 + m2).shape}\\n\", m1 + m2)\n",
    "\n",
    "m1 = Matrix([[1]])\n",
    "m2 = Matrix([[3]])\n",
    "print(f\"shape m1 +m2 = {(m1 + m2).shape}\\n\", m1 + m2)\n",
    "\n",
    "m1 = Matrix([[1, 0, -5, 2, -8], [1, 0, -5, 2, -8]])\n",
    "m2 = Matrix([[1.01, 0.8, -1.25, 2.5, -3.1], [3, -1.2, -2.5, 1, -4]])\n",
    "print(f\"shape m1 +m2 = {(m1 + m2).shape}\\n\", m1 + m2)\n"
   ]
  },
  {
   "cell_type": "markdown",
   "id": "ded6d6fb",
   "metadata": {},
   "source": [
    "### Partie sur les vecteurs"
   ]
  },
  {
   "cell_type": "code",
   "execution_count": 7,
   "id": "425b059e",
   "metadata": {},
   "outputs": [
    {
     "name": "stdout",
     "output_type": "stream",
     "text": [
      "## Example 1\n",
      "shape = (1, 3)\n",
      " Vector([[1, 2, 3]])\n",
      "\n",
      "## Example 2\n",
      "shape = (3, 1)\n",
      " Vector([[0] [1] [2]])\n",
      "\n",
      "## Example 3\n",
      "shape = (1, 12)\n",
      " Vector([[1, 2, 3, 11, 12, 13, 21, 22, 23, 31, 32, 33]])\n",
      "\n",
      "## Example 4\n",
      "shape = (1, 1)\n",
      " Vector([[0]])\n",
      "\n",
      "## Example 5\n",
      "shape = (1, 2)\n",
      " Vector([[0, 0]])\n",
      "\n",
      "## Example 6\n",
      "shape = (1, 10)\n",
      " Vector([[0, 0, 0, 0, 0, 0, 0, 0, 0, 0]])\n",
      "\n",
      "## Example 7\n",
      "shape = (10, 1)\n",
      " Vector([[0] [0] [0] [0] [0] [0] [0] [0] [0] [0]])\n",
      "\n",
      "## Example 8\n",
      "shape v1 + v2 = (1, 3)\n",
      " Vector([[10, 10, 10]])\n",
      "\n",
      "## Example 9\n",
      "shape m1 + v2 = (3, 1)\n",
      " Vector([[8] [9] [10]])\n",
      "\n",
      "## Example 10\n",
      "shape v1 - v2 = (1, 1)\n",
      " Vector([[-2]])\n",
      "\n",
      "## Example 11\n",
      "shape v1 - v2 = (1, 3)\n",
      " Vector([[-2, -2, -2]])\n",
      "\n",
      "## Example 12\n",
      "shape v1 - v2 = (3, 1)\n",
      " Vector([[-6] [-1] [4]])\n",
      "\n",
      "## Example 13\n",
      "shape v1 - v2 = (1, 1)\n",
      " Vector([[-2]])\n"
     ]
    }
   ],
   "source": [
    "from ex00.matrix import Vector\n",
    "\n",
    "# Instance\n",
    "## Example 1\n",
    "v1 = Vector([[1, 2, 3]])\n",
    "print(\"## Example 1\")\n",
    "print(f\"shape = {v1.shape}\\n\", v1)\n",
    "\n",
    "## Example 2\n",
    "v2 = Vector([[0],[1],[2]])\n",
    "print(\"\\n## Example 2\")\n",
    "print(f\"shape = {v2.shape}\\n\", v2)\n",
    "\n",
    "## Example 3\n",
    "v3 = Vector([[1, 2, 3, 11, 12, 13, 21, 22, 23, 31, 32, 33]])\n",
    "print(\"\\n## Example 3\")\n",
    "print(f\"shape = {v3.shape}\\n\", v3)\n",
    "\n",
    "## Example 4\n",
    "v4 = Vector((1, 1))\n",
    "print(\"\\n## Example 4\")\n",
    "print(f\"shape = {v4.shape}\\n\", v4)\n",
    "\n",
    "## Example 5\n",
    "v5 = Vector((1, 2))\n",
    "print(\"\\n## Example 5\")\n",
    "print(f\"shape = {v5.shape}\\n\", v5)\n",
    "\n",
    "## Example 6\n",
    "v6 = Vector((1, 10))\n",
    "print(\"\\n## Example 6\")\n",
    "print(f\"shape = {v6.shape}\\n\", v6)\n",
    "\n",
    "## Example 7\n",
    "v7 = Vector((10, 1))\n",
    "print(\"\\n## Example 7\")\n",
    "print(f\"shape = {v7.shape}\\n\", v7)\n",
    "\n",
    "# Addition matrice avec matrice, float, str, tuple, list\n",
    "## Example 8\n",
    "v1 = Vector([[1, 2, 3]])\n",
    "v2 = Vector([[9, 8, 7]])\n",
    "print(\"\\n## Example 8\")\n",
    "print(f\"shape v1 + v2 = {(v1 + v2).shape}\\n\", v1 + v2)\n",
    "\n",
    "## Example 9\n",
    "v1 = Vector([[1],[4],[7]])\n",
    "v2 = Vector([[7],[5],[3]])\n",
    "print(\"\\n## Example 9\")\n",
    "print(f\"shape m1 + v2 = {(v1 + v2).shape}\\n\", v1 + v2)\n",
    "\n",
    "## Example 10\n",
    "v1 = Vector([[1]])\n",
    "v2 = Vector([[3]])\n",
    "print(\"\\n## Example 10\")\n",
    "print(f\"shape v1 - v2 = {(v1 - v2).shape}\\n\", v1 - v2)\n",
    "\n",
    "## Example 11\n",
    "v1 = Vector([[1, 2, 3]])\n",
    "v2 = Vector([[3, 4, 5]])\n",
    "print(\"\\n## Example 11\")\n",
    "print(f\"shape v1 - v2 = {(v1 - v2).shape}\\n\", v1 - v2)\n",
    "\n",
    "## Example 12\n",
    "v1 = Vector([[1],[4],[7]])\n",
    "v2 = Vector([[7],[5],[3]])\n",
    "print(\"\\n## Example 12\")\n",
    "print(f\"shape v1 - v2 = {(v1 - v2).shape}\\n\", v1 - v2)\n",
    "\n",
    "## Example 13\n",
    "v1 = Vector([[1]])\n",
    "v2 = Vector([[3]])\n",
    "print(\"\\n## Example 13\")\n",
    "print(f\"shape v1 - v2 = {(v1 - v2).shape}\\n\", v1 - v2)"
   ]
  },
  {
   "cell_type": "code",
   "execution_count": 8,
   "id": "a2eba8af",
   "metadata": {},
   "outputs": [
    {
     "name": "stdout",
     "output_type": "stream",
     "text": [
      "\n",
      "## Example 13.right\n",
      "shape scalar * v1 = (1, 5)\n",
      " Vector([[0, 0, 0, 0, 0]])\n",
      "\n",
      "## Example 13.left\n",
      "shape v1 * scalar = (1, 5)\n",
      " Vector([[0, 0, 0, 0, 0]])\n",
      "\n",
      "## Example 14.right\n",
      "shape scalar * v1 = (1, 5)\n",
      " Vector([[3, 0, -15, 6, -24]])\n",
      "\n",
      "## Example 14.left\n",
      "shape v1 * scalar = (1, 5)\n",
      " Vector([[3, 0, -15, 6, -24]])\n",
      "\n",
      "## Example 15.right\n",
      "shape scalar * v1 = (1, 5)\n",
      " Vector([[-0.5, -0.0, 2.5, -1.0, 4.0]])\n",
      "\n",
      "## Example 15.left\n",
      "shape v1 * scalar = (1, 5)\n",
      " Vector([[-0.5, -0.0, 2.5, -1.0, 4.0]])\n",
      "\n",
      "## Example 16.right\n",
      "shape scalar / v1 = (1, 1)\n",
      " Vector([[-0.0]])\n",
      "\n",
      "## Example 16.left\n"
     ]
    },
    {
     "name": "stderr",
     "output_type": "stream",
     "text": [
      "You should not try to divide by a Vector. You must know what you are doing.\n"
     ]
    },
    {
     "ename": "ZeroDivisionError",
     "evalue": "This is a bad idea to divide by 0.",
     "output_type": "error",
     "traceback": [
      "\u001b[0;31m---------------------------------------------------------------------------\u001b[0m",
      "\u001b[0;31mZeroDivisionError\u001b[0m                         Traceback (most recent call last)",
      "\u001b[0;32m<ipython-input-8-ca3f83c72044>\u001b[0m in \u001b[0;36m<module>\u001b[0;34m\u001b[0m\n\u001b[1;32m     50\u001b[0m \u001b[0;31m#scalar = 1\u001b[0m\u001b[0;34m\u001b[0m\u001b[0;34m\u001b[0m\u001b[0;34m\u001b[0m\u001b[0m\n\u001b[1;32m     51\u001b[0m \u001b[0mprint\u001b[0m\u001b[0;34m(\u001b[0m\u001b[0;34m\"\\n## Example 16.left\"\u001b[0m\u001b[0;34m)\u001b[0m\u001b[0;34m\u001b[0m\u001b[0;34m\u001b[0m\u001b[0m\n\u001b[0;32m---> 52\u001b[0;31m \u001b[0mprint\u001b[0m\u001b[0;34m(\u001b[0m\u001b[0;34mf\"shape v1 / scalar = {(v1 / scalar).shape}\\n\"\u001b[0m\u001b[0;34m,\u001b[0m \u001b[0mv1\u001b[0m \u001b[0;34m/\u001b[0m \u001b[0mscalar\u001b[0m\u001b[0;34m)\u001b[0m\u001b[0;34m\u001b[0m\u001b[0;34m\u001b[0m\u001b[0m\n\u001b[0m\u001b[1;32m     53\u001b[0m \u001b[0;34m\u001b[0m\u001b[0m\n\u001b[1;32m     54\u001b[0m \u001b[0;31m## Example 17.right\u001b[0m\u001b[0;34m\u001b[0m\u001b[0;34m\u001b[0m\u001b[0;34m\u001b[0m\u001b[0m\n",
      "\u001b[0;32m/sgoinfre/goinfre/Perso/mdavid/bootcamp_ml_vgsph/module00/ex00/matrix.py\u001b[0m in \u001b[0;36m__truediv__\u001b[0;34m(self, other)\u001b[0m\n\u001b[1;32m    357\u001b[0m             \u001b[0;32mraise\u001b[0m \u001b[0mArithmeticError\u001b[0m\u001b[0;34m(\u001b[0m\u001b[0;34m\"Right member of the division operator is not a scalar.\"\u001b[0m\u001b[0;34m)\u001b[0m\u001b[0;34m\u001b[0m\u001b[0;34m\u001b[0m\u001b[0m\n\u001b[1;32m    358\u001b[0m         \u001b[0;32mif\u001b[0m \u001b[0misinstance\u001b[0m\u001b[0;34m(\u001b[0m\u001b[0mother\u001b[0m\u001b[0;34m,\u001b[0m \u001b[0;34m(\u001b[0m\u001b[0mint\u001b[0m\u001b[0;34m,\u001b[0m \u001b[0mfloat\u001b[0m\u001b[0;34m)\u001b[0m\u001b[0;34m)\u001b[0m \u001b[0;32mand\u001b[0m \u001b[0mother\u001b[0m \u001b[0;34m==\u001b[0m \u001b[0;36m0\u001b[0m\u001b[0;34m:\u001b[0m\u001b[0;34m\u001b[0m\u001b[0;34m\u001b[0m\u001b[0m\n\u001b[0;32m--> 359\u001b[0;31m             \u001b[0;32mraise\u001b[0m \u001b[0mZeroDivisionError\u001b[0m\u001b[0;34m(\u001b[0m\u001b[0;34m\"This is a bad idea to divide by 0.\"\u001b[0m\u001b[0;34m)\u001b[0m\u001b[0;34m\u001b[0m\u001b[0;34m\u001b[0m\u001b[0m\n\u001b[0m\u001b[1;32m    360\u001b[0m         \u001b[0;32mtry\u001b[0m\u001b[0;34m:\u001b[0m\u001b[0;34m\u001b[0m\u001b[0;34m\u001b[0m\u001b[0m\n\u001b[1;32m    361\u001b[0m             \u001b[0mres\u001b[0m \u001b[0;34m=\u001b[0m \u001b[0mVector\u001b[0m\u001b[0;34m(\u001b[0m\u001b[0mself\u001b[0m\u001b[0;34m.\u001b[0m\u001b[0mshape\u001b[0m\u001b[0;34m)\u001b[0m\u001b[0;34m\u001b[0m\u001b[0;34m\u001b[0m\u001b[0m\n",
      "\u001b[0;31mZeroDivisionError\u001b[0m: This is a bad idea to divide by 0."
     ]
    }
   ],
   "source": [
    "from ex00.matrix import Vector\n",
    "\n",
    "## Example 13.right\n",
    "v1 = Vector([[1, 0, -5, 2, -8]])\n",
    "scalar = 0\n",
    "print(\"\\n## Example 13.right\")\n",
    "print(f\"shape scalar * v1 = {(scalar * v1).shape}\\n\", scalar * v1)\n",
    "\n",
    "## Example 13.left\n",
    "v1 = Vector([[1, 0, -5, 2, -8]])\n",
    "scalar = 0\n",
    "print(\"\\n## Example 13.left\")\n",
    "print(f\"shape v1 * scalar = {(v1 * scalar).shape}\\n\", v1 * scalar)\n",
    "\n",
    "## Example 14.right\n",
    "v1 = Vector([[1, 0, -5, 2, -8]])\n",
    "scalar = 3\n",
    "print(\"\\n## Example 14.right\")\n",
    "print(f\"shape scalar * v1 = {(scalar * v1).shape}\\n\", scalar * v1)\n",
    "\n",
    "## Example 14.left\n",
    "v1 = Vector([[1, 0, -5, 2, -8]])\n",
    "scalar = 3\n",
    "print(\"\\n## Example 14.left\")\n",
    "print(f\"shape v1 * scalar = {(v1 * scalar).shape}\\n\", v1 * scalar)\n",
    "\n",
    "## Example 15.right\n",
    "v1 = Vector([[1, 0, -5, 2, -8]])\n",
    "scalar = -0.5\n",
    "print(\"\\n## Example 15.right\")\n",
    "print(f\"shape scalar * v1 = {(scalar * v1).shape}\\n\", scalar * v1)\n",
    "\n",
    "## Example 15.left\n",
    "v1 = Vector([[1, 0, -5, 2, -8]])\n",
    "scalar = -0.5\n",
    "print(\"\\n## Example 15.left\")\n",
    "print(f\"shape v1 * scalar = {(v1 * scalar).shape}\\n\", v1 * scalar)\n",
    "\n",
    "# %%%%%%%%%%%%%%%%%%%%%%%%%%%%%%%%%%%%%%%%%%%%\n",
    "\n",
    "## Example 16.right\n",
    "v1 = Vector([[-5]])\n",
    "scalar = 0\n",
    "print(\"\\n## Example 16.right\")\n",
    "print(f\"shape scalar / v1 = {(scalar * v1).shape}\\n\", scalar / v1)\n",
    "\n",
    "## Example 16.left\n",
    "v1 = Vector([[1, 0, -5, 2, -8]])\n",
    "scalar = 0\n",
    "#scalar = 1\n",
    "print(\"\\n## Example 16.left\")\n",
    "print(f\"shape v1 / scalar = {(v1 / scalar).shape}\\n\", v1 / scalar)\n",
    "\n",
    "## Example 17.right\n",
    "v1 = Vector([[1, 0, -5, 2, -8]])\n",
    "#v1 = Vector([[-8]])\n",
    "scalar = 2\n",
    "print(\"\\n## Example 17.right\")\n",
    "print(f\"shape scalar / v1 = {(scalar / v1).shape}\\n\", scalar / v1)\n",
    "\n",
    "## Example 17.left\n",
    "v1 = Vector([[1, 0, -5, 2, -8]])\n",
    "scalar = 2\n",
    "print(\"\\n## Example 17.left\")\n",
    "print(f\"shape v1 / scalar = {(v1 / scalar).shape}\\n\", v1 / scalar)\n",
    "\n",
    "## Example 18.right\n",
    "v1 = Vector([[1, 0, -5, 2, -8]])\n",
    "#v1 = Vector([[-8]])\n",
    "scalar = -0.5\n",
    "print(\"\\n## Example 18.right\")\n",
    "print(f\"shape scalar / m1 = {(scalar / m1).shape}\\n\", scalar / m1)\n",
    "\n",
    "## Example 18.left\n",
    "m1 = Vector([[1, 0, -5, 2, -8]])\n",
    "scalar = -0.5\n",
    "print(\"\\n## Example 18.left\")\n",
    "print(f\"shape m1 / scalar = {(m1 / scalar).shape}\\n\", m1 / scalar)"
   ]
  },
  {
   "cell_type": "code",
   "execution_count": 1,
   "id": "0264ddf6",
   "metadata": {},
   "outputs": [
    {
     "name": "stdout",
     "output_type": "stream",
     "text": [
      "\n",
      "## Example 19\n",
      "shape v1 = (1, 5)\n",
      " Vector([[1, 0, -5, 2, -8]])\n",
      "shape v1 = (5, 1)\n",
      " Vector([[1] [0] [-5] [2] [-8]])\n",
      "\n",
      "## Example 20\n",
      "shape v1 = (5, 1)\n",
      " Vector([[1] [0] [-5] [2] [-8]])\n",
      "shape v1 = (1, 5)\n",
      " Vector([[1, 0, -5, 2, -8]])\n",
      "\n",
      "## Example 22\n",
      "shape v1.dot(v2) = 38201\n"
     ]
    },
    {
     "data": {
      "text/plain": [
       "Vector([[-4] [-8] [-12]])"
      ]
     },
     "execution_count": 1,
     "metadata": {},
     "output_type": "execute_result"
    }
   ],
   "source": [
    "from ex00.matrix import Vector, Matrix\n",
    "\n",
    "## Example 19\n",
    "v1 = Vector([[1, 0, -5, 2, -8]])\n",
    "print(\"\\n## Example 19\")\n",
    "print(f\"shape v1 = {(v1).shape}\\n\", v1)\n",
    "print(f\"shape v1 = {(v1.T()).shape}\\n\", v1.T())\n",
    "\n",
    "## Example 20\n",
    "v1 = Vector([[1], [0], [-5], [2], [-8]])\n",
    "print(\"\\n## Example 20\")\n",
    "print(f\"shape v1 = {(v1).shape}\\n\", v1)\n",
    "print(f\"shape v1 = {(v1.T()).shape}\\n\", v1.T())\n",
    "\n",
    "## Example 21\n",
    "#v1 = Vector([[1, 2, 3]])\n",
    "#v2 = Vector([[1, 2, 3]])\n",
    "#print(\"\\n## Example 21\")\n",
    "#print(f\"shape v1.dot(v2) =  {v1.dot(v2)}\")\n",
    "\n",
    "## Example 22\n",
    "v1 = Vector([[1], [10], [100], [1000], [10000]])\n",
    "v2 = Vector([[1], [0], [2], [8], [3]])\n",
    "print(\"\\n## Example 22\")\n",
    "print(f\"shape v1.dot(v2) = {v1.dot(v2)}\")\n",
    "\n",
    "## Example 23\n",
    "v1 = Vector([[1], [0], [-5]])\n",
    "m1 = Matrix([[1, 1, 1], [2, 2, 2], [3, 3, 3]])\n",
    "print(\"\\n## Example 23\")\n",
    "print(f\"shape m1 * v1 =\\n{m1 * v1}\")\n",
    "\n",
    "## Example 24\n",
    "v1 = Vector([[1], [0], [-5]])\n",
    "m1 = Matrix([[1, 1, 1], [2, 2, 2], [3, 3, 3]])\n",
    "print(\"\\n## Example 23\")\n",
    "print(f\"shape v1 * m1 =\\n{v1 * m1}\")"
   ]
  },
  {
   "cell_type": "markdown",
   "id": "84624907",
   "metadata": {},
   "source": [
    "### Pour plus de test, utiliser le fihier test.py"
   ]
  },
  {
   "cell_type": "markdown",
   "id": "9bf38c1e",
   "metadata": {},
   "source": [
    "## Exercise 01: TinyStatistician\n",
    "```python\n",
    "data = [2, 37, 69, 318, 32, 3, 65, 74, 38, 26, 1 ,79]\n",
    "\n",
    "print(f\"{len(data) = }\")\n",
    "# Output: len(data) = 12\n",
    "\n",
    "print(f\"{(len(data) / 2) % 2 == 0}\")\n",
    "# Output: True\n",
    "\n",
    "quartile = tstat.quartile(data)\n",
    "\n",
    "print(f\"{quartile[0] = }\")\n",
    "# Output: quartile[0] = 3\n",
    "\n",
    "print(f\"{quartile[1] = }\")\n",
    "# Output: quartile[1] = 69\n",
    "\n",
    "\n",
    "print(f\"{tstat.percentile(data, 2) = }\")\n",
    "# Output: tstat.percentile(data, 2) = 1\n",
    "\n",
    "print(f\"{tstat.percentile(data, 28) = }\")\n",
    "# Output: tstat.percentile(data, 28) = 26\n",
    "\n",
    "print(f\"{tstat.percentile(data, 83) = }\")\n",
    "# Output: tstat.percentile(data, 83) = 74\n",
    "```"
   ]
  },
  {
   "cell_type": "code",
   "execution_count": 3,
   "id": "17a93b43",
   "metadata": {},
   "outputs": [
    {
     "name": "stdout",
     "output_type": "stream",
     "text": [
      "mean =  82.4\n",
      "median =  42\n",
      "quartile =  [10, 59]\n",
      "percentile(10) =  1\n",
      "percentile(28) =  10\n",
      "percentile(83) =  300\n",
      "var =  12279.439999999999\n",
      "std =  110.81263465868862\n"
     ]
    }
   ],
   "source": [
    "import math\n",
    "from ex01.TinyStatistician import TinyStatistician\n",
    "\n",
    "ts = TinyStatistician()\n",
    "a = [1, 42, 300, 10, 59]\n",
    "#a = [2, 37, 69, 318, 32, 3, 65, 74, 38, 26, 1 ,79]\n",
    "\n",
    "print(\"mean = \", ts.mean(a))\n",
    "print(\"median = \", ts.median(a))\n",
    "print(\"quartile = \", ts.quartile(a))\n",
    "print(\"percentile(10) = \", ts.percentile(a, 10))\n",
    "print(\"percentile(28) = \", ts.percentile(a, 28))\n",
    "print(\"percentile(83) = \", ts.percentile(a, 83))\n",
    "print(\"var = \", ts.var(a))\n",
    "print(\"std = \", ts.std(a))"
   ]
  },
  {
   "cell_type": "code",
   "execution_count": 4,
   "id": "566d4ba6",
   "metadata": {},
   "outputs": [
    {
     "name": "stdout",
     "output_type": "stream",
     "text": [
      "499.2\n",
      "210.5\n",
      "[18, 650]\n",
      "3\n",
      "18\n",
      "754\n",
      "589194.56\n",
      "767.5900989460456\n"
     ]
    }
   ],
   "source": [
    "import ex01.TinyStatistician as ts\n",
    "\n",
    "tstat = ts.TinyStatistician()\n",
    "data = [42, 7, 69, 18, 352, 3, 650, 754, 438, 2659]\n",
    "\n",
    "print(tstat.mean(data))\n",
    "print(tstat.median(data))\n",
    "print(tstat.quartile(data))\n",
    "print(tstat.percentile(data, 10))\n",
    "print(tstat.percentile(data, 28))\n",
    "print(tstat.percentile(data, 83))\n",
    "print(tstat.var(data))\n",
    "print(tstat.std(data))"
   ]
  },
  {
   "cell_type": "markdown",
   "id": "0232e06e",
   "metadata": {},
   "source": [
    "## Exercise 02: Simple prediction"
   ]
  },
  {
   "cell_type": "code",
   "execution_count": 10,
   "id": "4247267b",
   "metadata": {},
   "outputs": [
    {
     "name": "stdout",
     "output_type": "stream",
     "text": [
      "## Prediction 1:\n",
      " type = <class 'numpy.ndarray'>\n",
      " [[5.]\n",
      " [5.]\n",
      " [5.]\n",
      " [5.]\n",
      " [5.]] \n",
      "\n",
      "## Prediction 2:\n",
      " type = <class 'numpy.ndarray'>\n",
      " [[1.]\n",
      " [2.]\n",
      " [3.]\n",
      " [4.]\n",
      " [5.]] \n",
      "\n",
      "## Prediction 3:\n",
      " type = <class 'numpy.ndarray'>\n",
      " [[ 8.]\n",
      " [11.]\n",
      " [14.]\n",
      " [17.]\n",
      " [20.]] \n",
      "\n",
      "## Prediction 4:\n",
      " type = <class 'numpy.ndarray'>\n",
      " [[-2.]\n",
      " [-1.]\n",
      " [ 0.]\n",
      " [ 1.]\n",
      " [ 2.]] \n",
      "\n"
     ]
    }
   ],
   "source": [
    "from ex02.prediction import simple_predict\n",
    "\n",
    "x = np.arange(1,6).reshape(-1, 1)\n",
    "\n",
    "# Example 1:\n",
    "theta1 = np.array([[5],[0]])\n",
    "pred1 = simple_predict(x, theta1)\n",
    "print(\"## Prediction 1:\\n\", f\"type = {type(pred1)}\\n\", pred1, \"\\n\")\n",
    "# Ouput:\n",
    "#array([[5.],[5.],[5.],[5.],[5.]])\n",
    "# Do you understand why y_hat contains only 5’s here?\n",
    "\n",
    "# Example 2:\n",
    "theta2 = np.array([[0],[1]])\n",
    "pred2 = simple_predict(x, theta2)\n",
    "print(\"## Prediction 2:\\n\", f\"type = {type(pred2)}\\n\", pred2, \"\\n\")\n",
    "# Output:\n",
    "#array([[1.],[2.],[3.],[4.],[5.]])\n",
    "# Do you understand why y_hat == x here?\n",
    "# Example 3:\n",
    "\n",
    "theta3 = np.array([[5],[3]])\n",
    "pred3 = simple_predict(x, theta3)\n",
    "print(\"## Prediction 3:\\n\", f\"type = {type(pred3)}\\n\", pred3, \"\\n\")\n",
    "# Output:\n",
    "#array([[ 8.],[11.],[14.],[17.],[20.]])\n",
    "\n",
    "# Example 4:\n",
    "theta4 = np.array([[-3],[1]])\n",
    "pred4 = simple_predict(x, theta4)\n",
    "print(\"## Prediction 4:\\n\", f\"type = {type(pred4)}\\n\", pred4, \"\\n\")\n",
    "# Output:\n",
    "#array([[-2.],[-1.],[ 0.],[ 1.],[ 2.]])"
   ]
  },
  {
   "cell_type": "markdown",
   "id": "f8febe0f",
   "metadata": {},
   "source": [
    "## Exercise 03: Add intercept"
   ]
  },
  {
   "cell_type": "code",
   "execution_count": 11,
   "id": "fd38ce26",
   "metadata": {},
   "outputs": [
    {
     "name": "stdout",
     "output_type": "stream",
     "text": [
      "## Exemple 1:\n",
      " type = <class 'numpy.ndarray'>\n",
      " [[1. 1.]\n",
      " [1. 2.]\n",
      " [1. 3.]\n",
      " [1. 4.]\n",
      " [1. 5.]] \n",
      "\n",
      "## Exemple 2:\n",
      " type = <class 'numpy.ndarray'>\n",
      " [[1. 1. 2. 3.]\n",
      " [1. 4. 5. 6.]\n",
      " [1. 7. 8. 9.]] \n",
      "\n"
     ]
    }
   ],
   "source": [
    "from ex03.tools import add_intercept\n",
    "\n",
    "# Example 1:\n",
    "x = np.arange(1,6).reshape((5,1))\n",
    "add_intercept1 = add_intercept(x)\n",
    "print(\"## Exemple 1:\\n\", f\"type = {type(add_intercept1)}\\n\", add_intercept1, \"\\n\")\n",
    "# Output:\n",
    "#array([[1., 1.],\n",
    "#       [1., 2.],\n",
    "#       [1., 3.],\n",
    "#       [1., 4.],\n",
    "#       [1., 5.]])\n",
    "\n",
    "\n",
    "# Example 2:\n",
    "y = np.arange(1,10).reshape((3,3))\n",
    "add_intercept2 = add_intercept(y)\n",
    "print(\"## Exemple 2:\\n\", f\"type = {type(add_intercept2)}\\n\", add_intercept2, \"\\n\")\n",
    "# Output:\n",
    "#array([[1., 1., 2., 3.],\n",
    "#       [1., 4., 5., 6.],\n",
    "#       [1., 7., 8., 9.]])"
   ]
  },
  {
   "cell_type": "markdown",
   "id": "f2d8ae1a",
   "metadata": {},
   "source": [
    "## Exercise 04: Prediction"
   ]
  },
  {
   "cell_type": "code",
   "execution_count": 13,
   "id": "dcc055de",
   "metadata": {},
   "outputs": [
    {
     "name": "stdout",
     "output_type": "stream",
     "text": [
      "## Exemple 1:\n",
      " type <class 'numpy.ndarray'>\n",
      " [[5.]\n",
      " [5.]\n",
      " [5.]\n",
      " [5.]\n",
      " [5.]] \n",
      "\n",
      "## Exemple 2:\n",
      " type <class 'numpy.ndarray'>\n",
      " [[1.]\n",
      " [2.]\n",
      " [3.]\n",
      " [4.]\n",
      " [5.]] \n",
      "\n",
      "## Exemple 3:\n",
      " type <class 'numpy.ndarray'>\n",
      " [[ 8.]\n",
      " [11.]\n",
      " [14.]\n",
      " [17.]\n",
      " [20.]] \n",
      "\n",
      "## Exemple 4:\n",
      " type <class 'numpy.ndarray'>\n",
      " [[-2.]\n",
      " [-1.]\n",
      " [ 0.]\n",
      " [ 1.]\n",
      " [ 2.]] \n",
      "\n"
     ]
    }
   ],
   "source": [
    "from ex04.prediction import predict_\n",
    "import numpy as np\n",
    "\n",
    "x = np.arange(1,6).reshape(-1, 1)\n",
    "\n",
    "# Example 1:\n",
    "theta1 = np.array([[5],[0]])\n",
    "pred_1 = predict_(x, theta1)\n",
    "print(\"## Exemple 1:\\n\", f\"type {type(pred1)}\\n\", pred1, \"\\n\")\n",
    "# Ouput:\n",
    "# array([[5.],[5.],[5.],[5.],[5.]])\n",
    "# Do you remember why y_hat contains only 5’s here?\n",
    "\n",
    "# Example 2:\n",
    "theta2 = np.array([[0],[1]])\n",
    "pred = predict_(x, theta2)\n",
    "print(\"## Exemple 2:\\n\", f\"type {type(pred2)}\\n\", pred2, \"\\n\")\n",
    "# Output:\n",
    "# array([[1.],[2.],[3.],[4.],[5.]])\n",
    "# Do you remember why y_hat == x here?\n",
    "\n",
    "# Example 3:\n",
    "theta3 = np.array([[5],[3]])\n",
    "pred3 = predict_(x, theta3)\n",
    "print(\"## Exemple 3:\\n\", f\"type {type(pred3)}\\n\", pred3, \"\\n\")\n",
    "# Output:\n",
    "# array([[ 8.],[11.],[14.],[17.],[20.]])\n",
    "\n",
    "# Example 4:\n",
    "theta4 = np.array([[-3],[1]])\n",
    "pred4 = predict_(x, theta4)\n",
    "print(\"## Exemple 4:\\n\", f\"type {type(pred4)}\\n\", pred4, \"\\n\")\n",
    "# Output:\n",
    "# array([[-2.],[-1.],[ 0.],[ 1.],[ 2.]])"
   ]
  },
  {
   "cell_type": "markdown",
   "id": "ebd7e416",
   "metadata": {},
   "source": [
    "## Exercise 05: Let's Make Nice Plots"
   ]
  },
  {
   "cell_type": "code",
   "execution_count": 3,
   "id": "cbda4fc0",
   "metadata": {},
   "outputs": [
    {
     "data": {
      "image/png": "[encoded data removed]",
      "text/plain": [
       "<Figure size 720x576 with 1 Axes>"
      ]
     },
     "metadata": {
      "needs_background": "light"
     },
     "output_type": "display_data"
    },
    {
     "data": {
      "image/png": "[encoded data removed]",
      "text/plain": [
       "<Figure size 720x576 with 1 Axes>"
      ]
     },
     "metadata": {
      "needs_background": "light"
     },
     "output_type": "display_data"
    },
    {
     "data": {
      "image/png": "[encoded data removed]",
      "text/plain": [
       "<Figure size 720x576 with 1 Axes>"
      ]
     },
     "metadata": {
      "needs_background": "light"
     },
     "output_type": "display_data"
    }
   ],
   "source": [
    "import matplotlib.pyplot as plt\n",
    "from ex05.plot import plot\n",
    "plt.ion()\n",
    "\n",
    "x = np.arange(1,6).reshape(-1, 1)\n",
    "y = np.array([[3.74013816],[3.61473236],[4.57655287],[4.66793434],[5.95585554]])\n",
    "    \n",
    "# Example 1:\n",
    "theta1 = np.array([[4.5],[-0.2]])\n",
    "plot(x, y, theta1)\n",
    "    \n",
    "# Example 2:\n",
    "theta2 = np.array([[-1.5],[2]])\n",
    "plot(x, y, theta2)\n",
    "    \n",
    "# Example 3:\n",
    "theta3 = np.array([[3],[0.3]])\n",
    "plot(x, y, theta3)"
   ]
  },
  {
   "cell_type": "markdown",
   "id": "33725784",
   "metadata": {},
   "source": [
    "## Exercise 06: loss function"
   ]
  },
  {
   "cell_type": "code",
   "execution_count": 8,
   "id": "46f5f814",
   "metadata": {},
   "outputs": [
    {
     "name": "stdout",
     "output_type": "stream",
     "text": [
      "Exemple 0 ======================\n",
      "result: \n",
      "[[ 0.]\n",
      " [ 1.]\n",
      " [ 4.]\n",
      " [ 9.]\n",
      " [16.]]\n",
      "Expected result: \n",
      "[[ 0.]\n",
      " [ 1.]\n",
      " [ 4.]\n",
      " [ 9.]\n",
      " [16.]]\n",
      "\n",
      "\n",
      "Exemple 1 ======================\n",
      "result: \n",
      "3.0\n",
      "Expected result: \n",
      "3.0\n",
      "\n",
      "\n",
      "Exemple 2 ======================\n",
      "result: \n",
      "[[10.5625]\n",
      " [ 6.0025]\n",
      " [ 0.1225]\n",
      " [17.2225]]\n",
      "Expected result: \n",
      "[[10.5625]\n",
      " [ 6.0025]\n",
      " [ 0.1225]\n",
      " [17.2225]]\n",
      "\n",
      "\n",
      "Exemple 3 ======================\n",
      "result: \n",
      "4.238750000000003\n",
      "Expected result: \n",
      "4.238750000000004\n",
      "\n",
      "\n",
      "Exemple 4 ======================\n",
      "result: \n",
      "2.142857142857143\n",
      "Expected result: \n",
      "2.142857142857143\n",
      "\n",
      "\n",
      "Exemple 5 ======================\n",
      "result: \n",
      "0.0\n",
      "Expected result: \n",
      "0.0\n",
      "\n",
      "\n"
     ]
    }
   ],
   "source": [
    "from ex06.loss import loss_, loss_elem_\n",
    "from ex04.prediction import predict_\n",
    "\n",
    "# Example 1:\n",
    "x1 = np.array([[0.], [1.], [2.], [3.], [4.]])\n",
    "theta1 = np.array([[2.], [4.]])\n",
    "y_hat1 = predict_(x1, theta1)\n",
    "\n",
    "y1 = np.array([[2.], [7.], [12.], [17.], [22.]])\n",
    "res1 = loss_elem_(y1, y_hat1)\n",
    "# Output:\n",
    "#array([[0.], [1], [4], [9], [16]])\n",
    "expected_res1 = np.array([[0.], [1], [4], [9], [16]])\n",
    "\n",
    "# Example 2:\n",
    "res2 =  loss_(y1, y_hat1)\n",
    "# Output:\n",
    "# 3.0\n",
    "expected_res2 = 3.0\n",
    "\n",
    "# Example 3:\n",
    "x2 = np.array([[0.2, 2., 20.], [0.4, 4., 40.], [0.6, 6., 60.], [0.8, 8., 80.]])\n",
    "theta2 = np.array([[0.05], [1.], [1.], [1.]])\n",
    "y_hat2 = predict_(x2, theta2)\n",
    "y2 = np.array([[19.], [42.], [67.], [93.]])\n",
    "\n",
    "res3 = loss_elem_(y2, y_hat2)\n",
    "# Output:\n",
    "# array([[10.5625], [6.0025], [0.1225], [17.2225]])\n",
    "expected_res3 = np.array([[10.5625], [6.0025], [0.1225], [17.2225]])\n",
    "\n",
    "# Example 4:\n",
    "res4 = loss_(y2, y_hat2)\n",
    "# Output:\n",
    "# 4.238750000000004\n",
    "expected_res4 = 4.238750000000004\n",
    "\n",
    "\n",
    "# Example 5:\n",
    "x3 = np.array([[0],[ 15],[ -9],[ 7],[ 12],[ 3],[ -21]])\n",
    "theta3 = np.array([[0.], [1.]])\n",
    "y_hat3 = predict_(x3, theta3)\n",
    "y3 = np.array([[2],[ 14],[ -13],[ 5],[ 12],[ 4],[ -19]])\n",
    "\n",
    "res5 = loss_(y3, y_hat3)\n",
    "# Output:\n",
    "# 2.142857142857143\n",
    "expected_res5 = 2.142857142857143\n",
    "\n",
    "# Example 6:\n",
    "res6 = loss_(y3, y3)\n",
    "# Output:\n",
    "# 0.0\n",
    "expected_res6 = 0.0\n",
    "\n",
    "res = [res1, res2, res3, res4, res5, res6]\n",
    "expected_res = [expected_res1, expected_res2, expected_res3, expected_res4, expected_res5, expected_res6]\n",
    "\n",
    "ii = 0\n",
    "for p, q in zip(res, expected_res):\n",
    "    print(f\"Exemple {ii} ======================\")\n",
    "    print(f\"result: \\n{p}\\nExpected result: \\n{q}\\n\\n\")\n",
    "    ii += 1"
   ]
  },
  {
   "cell_type": "markdown",
   "id": "6b928e97",
   "metadata": {},
   "source": [
    "## Exercise 07: Vectorized loss function"
   ]
  },
  {
   "cell_type": "code",
   "execution_count": 17,
   "id": "b0ee23cd",
   "metadata": {},
   "outputs": [
    {
     "name": "stdout",
     "output_type": "stream",
     "text": [
      "Example 1: 2.142857142857143            type = <class 'float'>\n",
      "Example 2: 0.0                          type = <class 'float'>\n"
     ]
    }
   ],
   "source": [
    "from ex07.vec_loss import loss_\n",
    "\n",
    "X = np.array([[0],[ 15],[ -9],[ 7],[ 12],[ 3],[ -21]])\n",
    "Y = np.array([[2],[ 14],[ -13],[ 5],[ 12],[ 4],[ -19]])\n",
    "# Example 1:\n",
    "print(f\"Example 1: {loss_(X, Y)}\".ljust(40) + f\"type = {type(loss_(X, Y))}\")\n",
    "# Output:\n",
    "#2.142857142857143\n",
    "\n",
    "\n",
    "# Example 2:\n",
    "print(f\"Example 2: {loss_(X, X)}\".ljust(40) + f\"type = {type(loss_(X, X))}\")\n",
    "# Output:\n",
    "#0.0"
   ]
  },
  {
   "cell_type": "markdown",
   "id": "a20ea748",
   "metadata": {},
   "source": [
    "## Exercise 08: Lets Make Plots Again"
   ]
  },
  {
   "cell_type": "code",
   "execution_count": 3,
   "id": "d88e6949",
   "metadata": {},
   "outputs": [
    {
     "data": {
      "image/png": "[encoded data removed]",
      "text/plain": [
       "<Figure size 1080x576 with 1 Axes>"
      ]
     },
     "metadata": {
      "needs_background": "light"
     },
     "output_type": "display_data"
    },
    {
     "data": {
      "image/png": "[encoded data removed]",
      "text/plain": [
       "<Figure size 1080x576 with 1 Axes>"
      ]
     },
     "metadata": {
      "needs_background": "light"
     },
     "output_type": "display_data"
    },
    {
     "data": {
      "image/png": "[encoded data removed]",
      "text/plain": [
       "<Figure size 1080x576 with 1 Axes>"
      ]
     },
     "metadata": {
      "needs_background": "light"
     },
     "output_type": "display_data"
    }
   ],
   "source": [
    "from ex08.plot import plot_with_loss\n",
    "import matplotlib.pyplot as plt\n",
    "plt.ion()\n",
    "\n",
    "x = np.arange(1,6).reshape(-1,1)\n",
    "y = np.array([[11.52434424], [10.62589482], [13.14755699], [18.60682298], [14.14329568]])\n",
    "#Example 1:\n",
    "theta1= np.array([[18],[-1]])\n",
    "plot_with_loss(x, y, theta1)\n",
    "# Output:\n",
    "#Example 2:\n",
    "theta2 = np.array([[14], [0]])\n",
    "plot_with_loss(x, y, theta2)\n",
    "# Output:\n",
    "#Example 3:\n",
    "theta3 = np.array([[12], [0.8]])\n",
    "plot_with_loss(x, y, theta3)"
   ]
  },
  {
   "cell_type": "markdown",
   "id": "6e419e5a",
   "metadata": {},
   "source": [
    "## Exercise 09: Other loss functions"
   ]
  },
  {
   "cell_type": "code",
   "execution_count": 14,
   "id": "22beda3c",
   "metadata": {},
   "outputs": [
    {
     "name": "stdout",
     "output_type": "stream",
     "text": [
      "## MSE =========\n",
      "result =                       40.714285714285715 \n",
      "expected_result =             40.714285714285715\n",
      "## RMSE =========\n",
      "result =                       6.380774695464941 \n",
      "expected_result =             6.380774695464941\n",
      "## MAE =========\n",
      "result =                       3.8571428571428568 \n",
      "expected_result =             3.857142857142857\n",
      "## R2Score =========\n",
      "result =                       0.8167034178610806 \n",
      "expected_result =             0.8167034178610806\n"
     ]
    }
   ],
   "source": [
    "from ex09.other_losses import mse_, rmse_, mae_, r2score_\n",
    "from sklearn.metrics import mean_squared_error, mean_absolute_error, r2_score\n",
    "from math import sqrt\n",
    "\n",
    "x = np.array([[0],[ 30],[ -9],[ 7],[ 12],[ 3],[ -21]])\n",
    "y = np.array([[2],[ 14],[ -13],[ 5],[ 12],[ 4],[ -19]])\n",
    "\n",
    "# Mean squared error\n",
    "## your implementation\n",
    "res = mse_(x,y)\n",
    "## Output:\n",
    "## 4.285714285714286\n",
    "## sklearn implementation\n",
    "expect_res = mean_squared_error(x,y)\n",
    "## Output:\n",
    "## 4.285714285714286\n",
    "print(f\"## MSE =========\")\n",
    "print(\"result =\".ljust(30), res, \"\\nexpected_result =\".ljust(30), expect_res)\n",
    "\n",
    "# Root mean squared error\n",
    "## your implementation\n",
    "res = rmse_(x,y)\n",
    "## Output:\n",
    "## 2.0701966780270626\n",
    "## sklearn implementation not available: take the square root of MSE\n",
    "expect_res = sqrt(mean_squared_error(x,y))\n",
    "## Output:\n",
    "## 2.0701966780270626\n",
    "print(f\"## RMSE =========\")\n",
    "print(\"result =\".ljust(30), res, \"\\nexpected_result =\".ljust(30), expect_res)\n",
    "\n",
    "# Mean absolute error\n",
    "## your implementation\n",
    "res = mae_(x,y)\n",
    "# Output:\n",
    "## 1.7142857142857142\n",
    "## sklearn implementation\n",
    "expect_res = mean_absolute_error(x,y)\n",
    "# Output:\n",
    "## 1.7142857142857142\n",
    "print(f\"## MAE =========\")\n",
    "print(\"result =\".ljust(30), res, \"\\nexpected_result =\".ljust(30), expect_res)\n",
    "\n",
    "# R2-score\n",
    "## your implementation\n",
    "res = r2score_(x,y)\n",
    "## Output:\n",
    "## 0.9681721733858745\n",
    "## sklearn implementation\n",
    "expect_res = r2_score(x,y)\n",
    "## Output:\n",
    "## 0.9681721733858745\n",
    "print(f\"## R2Score =========\")\n",
    "print(\"result =\".ljust(30), res, \"\\nexpected_result =\".ljust(30), expect_res)"
   ]
  },
  {
   "cell_type": "code",
   "execution_count": null,
   "id": "490ac96c",
   "metadata": {},
   "outputs": [],
   "source": []
  }
 ],
 "metadata": {
  "interpreter": {
   "hash": "40d3a090f54c6569ab1632332b64b2c03c39dcf918b08424e98f38b5ae0af88f"
  },
  "kernelspec": {
   "display_name": "Python 3.7.4 64-bit ('base': conda)",
   "language": "python",
   "name": "python3"
  },
  "language_info": {
   "codemirror_mode": {
    "name": "ipython",
    "version": 3
   },
   "file_extension": ".py",
   "mimetype": "text/x-python",
   "name": "python",
   "nbconvert_exporter": "python",
   "pygments_lexer": "ipython3",
   "version": "3.7.4"
  }
 },
 "nbformat": 4,
 "nbformat_minor": 5
}
